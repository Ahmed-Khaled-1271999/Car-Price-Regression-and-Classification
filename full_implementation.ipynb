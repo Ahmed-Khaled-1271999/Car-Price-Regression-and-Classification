{
 "cells": [
  {
   "attachments": {},
   "cell_type": "markdown",
   "metadata": {},
   "source": [
    "# Car Market  Classification/Regression ML Competition"
   ]
  },
  {
   "attachments": {},
   "cell_type": "markdown",
   "metadata": {},
   "source": [
    "# Imports"
   ]
  },
  {
   "cell_type": "code",
   "execution_count": 5,
   "metadata": {},
   "outputs": [
    {
     "name": "stderr",
     "output_type": "stream",
     "text": [
      "/home/ahmed/anaconda3/lib/python3.9/site-packages/scipy/__init__.py:146: UserWarning: A NumPy version >=1.16.5 and <1.23.0 is required for this version of SciPy (detected version 1.23.1\n",
      "  warnings.warn(f\"A NumPy version >={np_minversion} and <{np_maxversion}\"\n"
     ]
    }
   ],
   "source": [
    "import numpy as np  \n",
    "import pandas as pd  \n",
    "\n",
    "import seaborn as sns\n",
    "from matplotlib import pyplot as plt\n",
    "\n",
    "from sklearn.model_selection import train_test_split\n",
    "\n",
    "from sklearn.decomposition import PCA\n",
    "from sklearn.preprocessing import StandardScaler\n",
    "\n",
    "\n",
    "%matplotlib inline\n",
    "import visuals as vs    # Our Module\n",
    "import helpers as hlp   # Our Module\n",
    "from IPython.display import display\n",
    "\n",
    "from sklearn.metrics import accuracy_score\n",
    "from time import time"
   ]
  },
  {
   "cell_type": "markdown",
   "metadata": {},
   "source": [
    "# Data Preperation and Exploration"
   ]
  },
  {
   "cell_type": "code",
   "execution_count": 6,
   "metadata": {},
   "outputs": [],
   "source": [
    "# Read Train Data\n",
    "cars_train = pd.read_csv(\"cars-train.csv\")\n",
    "# Read Kggle Testing set\n",
    "cars_test = pd.read_csv('cars-test.csv')"
   ]
  },
  {
   "cell_type": "code",
   "execution_count": 7,
   "metadata": {},
   "outputs": [
    {
     "data": {
      "text/plain": [
       "<AxesSubplot:>"
      ]
     },
     "execution_count": 7,
     "metadata": {},
     "output_type": "execute_result"
    },
    {
     "data": {
      "image/png": "[encoded data removed]",
      "text/plain": [
       "<Figure size 640x480 with 1 Axes>"
      ]
     },
     "metadata": {},
     "output_type": "display_data"
    }
   ],
   "source": [
    "target_series = cars_train['Price Category'].value_counts()\n",
    "target_series.plot.bar(x='Category', y='Count', rot=0)"
   ]
  },
  {
   "cell_type": "code",
   "execution_count": 8,
   "metadata": {},
   "outputs": [
    {
     "data": {
      "text/html": [
       "<div>\n",
       "<style scoped>\n",
       "    .dataframe tbody tr th:only-of-type {\n",
       "        vertical-align: middle;\n",
       "    }\n",
       "\n",
       "    .dataframe tbody tr th {\n",
       "        vertical-align: top;\n",
       "    }\n",
       "\n",
       "    .dataframe thead th {\n",
       "        text-align: right;\n",
       "    }\n",
       "</style>\n",
       "<table border=\"1\" class=\"dataframe\">\n",
       "  <thead>\n",
       "    <tr style=\"text-align: right;\">\n",
       "      <th></th>\n",
       "      <th>car-info</th>\n",
       "      <th>condition</th>\n",
       "      <th>mileage(kilometers)</th>\n",
       "      <th>fuel_type</th>\n",
       "      <th>volume(cm3)</th>\n",
       "      <th>color</th>\n",
       "      <th>transmission</th>\n",
       "      <th>drive_unit</th>\n",
       "      <th>segment</th>\n",
       "      <th>Price Category</th>\n",
       "    </tr>\n",
       "  </thead>\n",
       "  <tbody>\n",
       "    <tr>\n",
       "      <th>0</th>\n",
       "      <td>[(90),(audi),(1986)]</td>\n",
       "      <td>with mileage</td>\n",
       "      <td>319999.0</td>\n",
       "      <td>PETROL</td>\n",
       "      <td>2200.0</td>\n",
       "      <td>gray</td>\n",
       "      <td>mechanics</td>\n",
       "      <td>front-wheel drive</td>\n",
       "      <td>D</td>\n",
       "      <td>cheap</td>\n",
       "    </tr>\n",
       "    <tr>\n",
       "      <th>1</th>\n",
       "      <td>[(rapid),(skoda),(2016)]</td>\n",
       "      <td>with mileage</td>\n",
       "      <td>53000.0</td>\n",
       "      <td>petrol</td>\n",
       "      <td>1600.0</td>\n",
       "      <td>blue</td>\n",
       "      <td>mechanics</td>\n",
       "      <td>front-wheel drive</td>\n",
       "      <td>C</td>\n",
       "      <td>moderate</td>\n",
       "    </tr>\n",
       "  </tbody>\n",
       "</table>\n",
       "</div>"
      ],
      "text/plain": [
       "                   car-info     condition  mileage(kilometers) fuel_type  \\\n",
       "0      [(90),(audi),(1986)]  with mileage             319999.0    PETROL   \n",
       "1  [(rapid),(skoda),(2016)]  with mileage              53000.0    petrol   \n",
       "\n",
       "   volume(cm3) color transmission         drive_unit segment Price Category  \n",
       "0       2200.0  gray    mechanics  front-wheel drive       D          cheap  \n",
       "1       1600.0  blue    mechanics  front-wheel drive       C       moderate  "
      ]
     },
     "execution_count": 8,
     "metadata": {},
     "output_type": "execute_result"
    }
   ],
   "source": [
    "cars_train = cars_train.drop(columns=['car_id'], axis='column')\n",
    "cars_train.head(2)"
   ]
  },
  {
   "cell_type": "code",
   "execution_count": 9,
   "metadata": {},
   "outputs": [
    {
     "name": "stdout",
     "output_type": "stream",
     "text": [
      "<class 'pandas.core.frame.DataFrame'>\n",
      "RangeIndex: 44995 entries, 0 to 44994\n",
      "Data columns (total 10 columns):\n",
      " #   Column               Non-Null Count  Dtype  \n",
      "---  ------               --------------  -----  \n",
      " 0   car-info             44995 non-null  object \n",
      " 1   condition            44995 non-null  object \n",
      " 2   mileage(kilometers)  44995 non-null  float64\n",
      " 3   fuel_type            44995 non-null  object \n",
      " 4   volume(cm3)          44960 non-null  float64\n",
      " 5   color                44995 non-null  object \n",
      " 6   transmission         44995 non-null  object \n",
      " 7   drive_unit           43452 non-null  object \n",
      " 8   segment              40779 non-null  object \n",
      " 9   Price Category       44995 non-null  object \n",
      "dtypes: float64(2), object(8)\n",
      "memory usage: 3.4+ MB\n"
     ]
    }
   ],
   "source": [
    "cars_train.info()"
   ]
  },
  {
   "attachments": {},
   "cell_type": "markdown",
   "metadata": {},
   "source": [
    "# Preprocessing"
   ]
  },
  {
   "cell_type": "code",
   "execution_count": 10,
   "metadata": {},
   "outputs": [],
   "source": [
    "# Car Info Parsing\n",
    "# تفكيك خاصية معلومات السيارة إلي مكونتها الثلاث: طراز و الشركة المُصّنعة و سنة الإنتاج\n",
    "cars_train['car-model']           = cars_train['car-info'].apply(lambda str_pattern: hlp.extract_car_info_feature_x(str_pattern, x='model'))\n",
    "cars_train['car-manufacturer']    = cars_train['car-info'].apply(lambda str_pattern: hlp.extract_car_info_feature_x(str_pattern, x='manufacturer'))\n",
    "cars_train['car-production_year'] = cars_train['car-info'].apply(lambda str_pattern: hlp.extract_car_info_feature_x(str_pattern, x='production_year'))\n",
    "cars_train = cars_train.drop(columns=['car-info'])"
   ]
  },
  {
   "cell_type": "code",
   "execution_count": 11,
   "metadata": {},
   "outputs": [],
   "source": [
    "# PETROL is petrol!... تسوية الألفاظ المؤدية لذات المعني \n",
    "cars_train['fuel_type'] = cars_train['fuel_type'].apply(str.lower)"
   ]
  },
  {
   "cell_type": "code",
   "execution_count": 12,
   "metadata": {},
   "outputs": [],
   "source": [
    "# Drop Choice <Make Decision>:: Why not \"Imputation\" ???\n",
    "cars_train = cars_train.dropna(axis=0, how='any')"
   ]
  },
  {
   "cell_type": "code",
   "execution_count": 13,
   "metadata": {},
   "outputs": [],
   "source": [
    "# Seprate Raw Features than Target Columns\n",
    "Y_training_set = cars_train['Price Category']\n",
    "X_training_set = cars_train.drop(columns=['Price Category'])"
   ]
  },
  {
   "cell_type": "code",
   "execution_count": 14,
   "metadata": {},
   "outputs": [],
   "source": [
    "# رقمنة الفئات لتسهيل/لتمكين التعلم\n",
    "# cars_Y.unique() # array(['cheap', 'moderate', 'expensive', 'very expensive'], dtype=object)\n",
    "Y_training_set = Y_training_set.replace({'cheap': 0, 'moderate': 1, 'expensive': 2, 'very expensive': 3})"
   ]
  },
  {
   "cell_type": "code",
   "execution_count": 15,
   "metadata": {},
   "outputs": [],
   "source": [
    "# Apply same Preprocessing folw \"untill now\" on Kaggle Testing set\n",
    "X_testing_set = hlp.catch_up_testing(cars_test)"
   ]
  },
  {
   "attachments": {},
   "cell_type": "markdown",
   "metadata": {},
   "source": [
    "# Our Dillema\n",
    "Kaggle Testing set provide new Categories not present on Training Set."
   ]
  },
  {
   "cell_type": "code",
   "execution_count": 16,
   "metadata": {},
   "outputs": [
    {
     "name": "stdout",
     "output_type": "stream",
     "text": [
      "For Feature car-model; Training set DIFF Testing Set 32 Values : {'a4-allroad', 'hover-m4', 'traveller', 'range-rover-velar', 'c5-aircross', '205', 'focus-st', '967', 'x7', '2137', 'passat-alltrack', 'verso-s', 'cr-z', 'gls-amg', '9-2x', 'g-klass-amg', 'c-elysee', 'gl-klass-amg', 'c4-cactus', 'cls-amg', '159', 'clio-rs', 'a2', 'x5m', 'c4-aircross', 's90', '90', 'cla-amg', '2112', 'gla-amg', 'cl-amg', '2138'}\n",
      "============================================================================================================================================================================================================================================================================================================\n",
      "For Feature car-production_year; Training set DIFF Testing Set 6 Values : {'1910', '1960', '1965', '1970', '1959', '1958'}\n",
      "============================================================================================================================================================================================================================================================================================================\n"
     ]
    }
   ],
   "source": [
    "# hlp.ls_categories(X_training_set)\n",
    "hlp.training_diff_testing(X_training_set, X_testing_set)"
   ]
  },
  {
   "cell_type": "code",
   "execution_count": 17,
   "metadata": {},
   "outputs": [
    {
     "name": "stdout",
     "output_type": "stream",
     "text": [
      "For Feature car-model; Testing set DIFF Training Set 3 Values : {'a19', 's7', 'town-car'}\n",
      "============================================================================================================================================================================================================================================================================================================\n",
      "For Feature car-manufacturer; Testing set DIFF Training Set 1 Values : {'lincoln'}\n",
      "============================================================================================================================================================================================================================================================================================================\n",
      "For Feature car-production_year; Testing set DIFF Training Set 1 Values : {'1957'}\n",
      "============================================================================================================================================================================================================================================================================================================\n"
     ]
    }
   ],
   "source": [
    "# hlp.ls_categories(X_testing_set)\n",
    "hlp.testing_diff_training(X_training_set, X_testing_set)"
   ]
  },
  {
   "cell_type": "code",
   "execution_count": 18,
   "metadata": {},
   "outputs": [],
   "source": [
    "X_training_set, X_testing_set = hlp.mirroring(X_training_set, X_testing_set)"
   ]
  },
  {
   "cell_type": "code",
   "execution_count": 19,
   "metadata": {},
   "outputs": [
    {
     "name": "stdout",
     "output_type": "stream",
     "text": [
      "<class 'pandas.core.frame.DataFrame'>\n",
      "Int64Index: 39383 entries, 0 to 44994\n",
      "Columns: 610 entries, mileage(kilometers) to car-model_s7\n",
      "dtypes: float64(2), int64(5), uint8(603)\n",
      "memory usage: 25.1 MB\n"
     ]
    }
   ],
   "source": [
    "X_training_set.info()"
   ]
  },
  {
   "cell_type": "code",
   "execution_count": 20,
   "metadata": {},
   "outputs": [
    {
     "name": "stdout",
     "output_type": "stream",
     "text": [
      "<class 'pandas.core.frame.DataFrame'>\n",
      "Int64Index: 9840 entries, 0 to 11248\n",
      "Columns: 610 entries, mileage(kilometers) to car-model_s7\n",
      "dtypes: float64(2), int64(38), uint8(570)\n",
      "memory usage: 8.4 MB\n"
     ]
    }
   ],
   "source": [
    "X_testing_set.info()"
   ]
  },
  {
   "cell_type": "code",
   "execution_count": 21,
   "metadata": {},
   "outputs": [],
   "source": [
    "# Standardize Numerical Feature\n",
    "ss = StandardScaler()\n",
    "scaled_features = ss.fit_transform(X_training_set[[\"mileage(kilometers)\", \"volume(cm3)\"]])\n",
    "X_training_set[[\"mileage(kilometers)\", \"volume(cm3)\"]] = scaled_features.tolist()"
   ]
  },
  {
   "attachments": {},
   "cell_type": "markdown",
   "metadata": {},
   "source": [
    "### Testing Transformation ONLY"
   ]
  },
  {
   "cell_type": "code",
   "execution_count": 22,
   "metadata": {},
   "outputs": [],
   "source": [
    "scaled_features = ss.transform(X_testing_set[[\"mileage(kilometers)\", \"volume(cm3)\"]])\n",
    "X_testing_set[[\"mileage(kilometers)\", \"volume(cm3)\"]] = scaled_features.tolist()"
   ]
  },
  {
   "cell_type": "code",
   "execution_count": 23,
   "metadata": {},
   "outputs": [
    {
     "name": "stdout",
     "output_type": "stream",
     "text": [
      "NO. of Dimensions: 610\n"
     ]
    }
   ],
   "source": [
    "print(f'NO. of Dimensions: {len(X_training_set.iloc[0,::])}')"
   ]
  },
  {
   "cell_type": "code",
   "execution_count": 24,
   "metadata": {},
   "outputs": [],
   "source": [
    "# البيانات الأن\n",
    "# X_train.head(3)\n",
    "# X_test.head(3)"
   ]
  },
  {
   "attachments": {},
   "cell_type": "markdown",
   "metadata": {},
   "source": [
    "## Dimensionality Reduction"
   ]
  },
  {
   "cell_type": "code",
   "execution_count": 25,
   "metadata": {},
   "outputs": [],
   "source": [
    "pca = PCA(0.95)    # choose the minimum number of principal components such that 95% of the variance is retained.\n",
    "X_train_pca_transformed = pca.fit_transform(X_training_set)"
   ]
  },
  {
   "cell_type": "code",
   "execution_count": 26,
   "metadata": {},
   "outputs": [],
   "source": [
    "X_train_pca_transformed = pd.DataFrame(data=X_train_pca_transformed)"
   ]
  },
  {
   "cell_type": "code",
   "execution_count": 27,
   "metadata": {},
   "outputs": [
    {
     "name": "stdout",
     "output_type": "stream",
     "text": [
      "NO. of Dimensions After PCA: 144\n"
     ]
    }
   ],
   "source": [
    "print(f'NO. of Dimensions After PCA: {len(X_train_pca_transformed.iloc[0,::])}')"
   ]
  },
  {
   "cell_type": "code",
   "execution_count": 28,
   "metadata": {},
   "outputs": [],
   "source": [
    "# pca.explained_variance_ratio_"
   ]
  },
  {
   "attachments": {},
   "cell_type": "markdown",
   "metadata": {},
   "source": [
    "### Testing Transformation ONLY"
   ]
  },
  {
   "cell_type": "code",
   "execution_count": 29,
   "metadata": {},
   "outputs": [],
   "source": [
    "# OLLY Transformation on Kaggle Testing set\n",
    "X_test_pca_transformed = pca.transform(X_testing_set)"
   ]
  },
  {
   "attachments": {},
   "cell_type": "markdown",
   "metadata": {},
   "source": [
    "# Train Test Splitting"
   ]
  },
  {
   "cell_type": "code",
   "execution_count": 30,
   "metadata": {},
   "outputs": [],
   "source": [
    "# Decision is made here:: الداتا المُدرِبة تلك التي خفّضت أبعادها\n",
    "X_train, X_test, y_train, y_test = train_test_split(X_training_set, Y_training_set, test_size=0.2, random_state=42)"
   ]
  },
  {
   "attachments": {},
   "cell_type": "markdown",
   "metadata": {},
   "source": [
    "# Hinge Loss Model - Hyper Parameter Tuning"
   ]
  },
  {
   "cell_type": "code",
   "execution_count": 31,
   "metadata": {},
   "outputs": [
    {
     "name": "stdout",
     "output_type": "stream",
     "text": [
      "              precision    recall  f1-score   support\n",
      "\n",
      "           0       0.86      0.84      0.85      1706\n",
      "           1       0.87      0.91      0.89      4295\n",
      "           2       0.90      0.82      0.86      1839\n",
      "           3       0.67      0.05      0.10        37\n",
      "\n",
      "    accuracy                           0.87      7877\n",
      "   macro avg       0.82      0.66      0.67      7877\n",
      "weighted avg       0.87      0.87      0.87      7877\n",
      "\n",
      "Best CV params {'alpha': 0.0001, 'loss': 'hinge'}\n",
      "Train accuracy of best grid search hypers: 0.8777375737954676\n",
      "Test accuracy of best grid search hypers: 0.8726672591087977\n"
     ]
    }
   ],
   "source": [
    "from sklearn.linear_model import SGDClassifier\n",
    "from sklearn.model_selection import GridSearchCV\n",
    "from sklearn.metrics import classification_report, confusion_matrix\n",
    "\n",
    "classifier = SGDClassifier(random_state=42)\n",
    "\n",
    "parameters = {'alpha':[0.0001, 0.001, 0.01, 0.1],\n",
    "             'loss':['hinge']}\n",
    "grid = GridSearchCV(classifier, parameters, cv=10)\n",
    "grid.fit(X_train, y_train)\n",
    "\n",
    "grid_predictions = grid.predict(X_test)\n",
    "print(classification_report(y_test,grid_predictions))\n",
    "# ==\n",
    "print(\"Best CV params\", grid.best_params_)\n",
    "print(\"Train accuracy of best grid search hypers:\", grid.score(X_train, y_train))\n",
    "print(\"Test accuracy of best grid search hypers:\", grid.score(X_test, y_test))"
   ]
  },
  {
   "attachments": {},
   "cell_type": "markdown",
   "metadata": {},
   "source": [
    "# SVC Model  "
   ]
  },
  {
   "cell_type": "code",
   "execution_count": 32,
   "metadata": {},
   "outputs": [
    {
     "name": "stdout",
     "output_type": "stream",
     "text": [
      "Train Time 173.44514536857605 s\n",
      "Prediction Time 58.633031606674194 s\n",
      "              precision    recall  f1-score   support\n",
      "\n",
      "           0       0.86      0.87      0.87      1706\n",
      "           1       0.90      0.91      0.91      4295\n",
      "           2       0.91      0.88      0.89      1839\n",
      "           3       0.94      0.46      0.62        37\n",
      "\n",
      "    accuracy                           0.89      7877\n",
      "   macro avg       0.90      0.78      0.82      7877\n",
      "weighted avg       0.89      0.89      0.89      7877\n",
      "\n",
      "Training accuracy (SVM): 0.9122071986288326\n",
      "Testing accuracy (SVM): 0.894249079598832\n"
     ]
    }
   ],
   "source": [
    "from sklearn.svm import SVC\n",
    "\n",
    "model = SVC()\n",
    "start = time() \n",
    "model.fit(X_train, y_train)\n",
    "end = time() \n",
    "print(f'Train Time {end - start} s')\n",
    "\n",
    "start = time()\n",
    "predictions = model.predict(X_test)\n",
    "end = time()\n",
    "print(f'Prediction Time {end - start} s')\n",
    "print(classification_report(y_test, predictions))\n",
    "\n",
    "print(\"Training accuracy (SVM):\", model.score(X_train, y_train))\n",
    "print(\"Testing accuracy (SVM):\", model.score(X_test, y_test))"
   ]
  },
  {
   "attachments": {},
   "cell_type": "markdown",
   "metadata": {},
   "source": [
    "# Ensemble Methods (Random Forest)"
   ]
  },
  {
   "cell_type": "code",
   "execution_count": null,
   "metadata": {},
   "outputs": [
    {
     "name": "stdout",
     "output_type": "stream",
     "text": [
      "              precision    recall  f1-score   support\n",
      "\n",
      "           0       0.85      0.84      0.85      1706\n",
      "           1       0.88      0.91      0.89      4295\n",
      "           2       0.90      0.86      0.88      1839\n",
      "           3       0.93      0.35      0.51        37\n",
      "\n",
      "    accuracy                           0.88      7877\n",
      "   macro avg       0.89      0.74      0.78      7877\n",
      "weighted avg       0.88      0.88      0.88      7877\n",
      "\n",
      "Train accuracy of Random_forest: 0.9993017203072431\n",
      "Test accuracy of Random_forest: 0.8797765646819855\n"
     ]
    }
   ],
   "source": [
    "from sklearn.ensemble import RandomForestClassifier\n",
    "\n",
    "RF = RandomForestClassifier(n_estimators=100)\n",
    "\n",
    "start = time() \n",
    "RF.fit(X_train, y_train)\n",
    "end = time() \n",
    "print(f'Train Time {end - start} s')\n",
    "\n",
    "start = time()\n",
    "test_pred_forrest = RF.predict(X_test)\n",
    "end = time()\n",
    "print(f'Prediction Time {end - start} s')\n",
    "\n",
    "print(classification_report(y_test, test_pred_forrest))\n",
    "print(\"Train accuracy of Random_forest:\", RF.score(X_train, y_train))\n",
    "print(\"Test accuracy of Random_forest:\", RF.score(X_test, y_test))"
   ]
  },
  {
   "attachments": {},
   "cell_type": "markdown",
   "metadata": {},
   "source": [
    "# Random Forest Ensemble with PCA Transformed X Train"
   ]
  },
  {
   "cell_type": "code",
   "execution_count": null,
   "metadata": {},
   "outputs": [],
   "source": [
    "X_train_pca, X_test_pca, y_train_pca, y_test_pca = train_test_split(X_train_pca_transformed, Y_training_set, test_size=0.2, random_state=42)"
   ]
  },
  {
   "cell_type": "code",
   "execution_count": null,
   "metadata": {},
   "outputs": [
    {
     "name": "stdout",
     "output_type": "stream",
     "text": [
      "              precision    recall  f1-score   support\n",
      "\n",
      "           0       0.85      0.84      0.84      1706\n",
      "           1       0.88      0.91      0.89      4295\n",
      "           2       0.90      0.87      0.88      1839\n",
      "           3       0.88      0.38      0.53        37\n",
      "\n",
      "    accuracy                           0.88      7877\n",
      "   macro avg       0.88      0.75      0.79      7877\n",
      "weighted avg       0.88      0.88      0.88      7877\n",
      "\n",
      "Train accuracy of Random_forest on PCA Transformed Training: 0.9992699803212086\n",
      "Test accuracy of Random_forest on PCA Transformed Training: 0.8787609496001015\n"
     ]
    }
   ],
   "source": [
    "from sklearn.ensemble import RandomForestClassifier\n",
    "\n",
    "RF = RandomForestClassifier(n_estimators=100)\n",
    "\n",
    "RF.fit(X_train_pca, y_train_pca)\n",
    "test_pred_forrest = RF.predict(X_test_pca)\n",
    "\n",
    "print(classification_report(y_test_pca, test_pred_forrest))\n",
    "print(\"Train accuracy of Random_forest on PCA Transformed Training:\", RF.score(X_train_pca, y_train_pca))\n",
    "print(\"Test accuracy of Random_forest on PCA Transformed Training:\", RF.score(X_test_pca, y_test_pca))"
   ]
  },
  {
   "attachments": {},
   "cell_type": "markdown",
   "metadata": {},
   "source": [
    "# Grid Search Parameter Fine Tunining stacked over PCA Feature Reduction on Decision Tree Model"
   ]
  },
  {
   "cell_type": "code",
   "execution_count": null,
   "metadata": {},
   "outputs": [
    {
     "name": "stdout",
     "output_type": "stream",
     "text": [
      "Model DecisionTreeClassifier\n",
      "Train Time 2.036262035369873 s\n",
      "Prediction Time 0.10638070106506348 s\n",
      "              precision    recall  f1-score   support\n",
      "\n",
      "           0       0.80      0.80      0.80      1706\n",
      "           1       0.85      0.86      0.86      4295\n",
      "           2       0.84      0.83      0.84      1839\n",
      "           3       0.68      0.73      0.70        37\n",
      "\n",
      "    accuracy                           0.84      7877\n",
      "   macro avg       0.79      0.80      0.80      7877\n",
      "weighted avg       0.84      0.84      0.84      7877\n",
      "\n",
      "Training Accuracy Score 0.9993017203072431\n",
      "Testing Accuracy Score 0.8387711057509204\n"
     ]
    }
   ],
   "source": [
    "from sklearn.tree import DecisionTreeClassifier\n",
    "\n",
    "dt = DecisionTreeClassifier(random_state = 42)\n",
    "print(f'Model {dt.__class__.__name__} Without niether PCA applied nor Parameter Search for Optimal')\n",
    "\n",
    "start = time() \n",
    "learner = dt.fit(X_train, y_train) \n",
    "end = time() \n",
    "print(f'Train Time {end - start} s')\n",
    "    \n",
    "start = time()\n",
    "predictions_test = learner.predict(X_test)\n",
    "predictions_train = learner.predict(X_train)\n",
    "end = time()\n",
    "print(f'Prediction Time {end - start} s')\n",
    "\n",
    "print(classification_report(y_test, predictions_test))\n",
    "print(f'Training Accuracy Score {accuracy_score(y_train, predictions_train)}')\n",
    "print(f'Testing Accuracy Score {accuracy_score(y_test, predictions_test)}')"
   ]
  },
  {
   "cell_type": "code",
   "execution_count": null,
   "metadata": {},
   "outputs": [
    {
     "name": "stdout",
     "output_type": "stream",
     "text": [
      "Model DecisionTreeClassifier\n",
      "Train Time 705.928329706192 s\n",
      "Prediction Time 0.009691238403320312 s\n"
     ]
    }
   ],
   "source": [
    "from sklearn.tree import DecisionTreeClassifier\n",
    "\n",
    "dc_tree = DecisionTreeClassifier(random_state = 42)\n",
    "print(f'Model {dt.__class__.__name__}')\n",
    "\n",
    "params =  {\n",
    "    'min_samples_leaf': [30, 40, 50],\n",
    "    'max_depth': [7, 10, 15]\n",
    "}\n",
    "\n",
    "grid = GridSearchCV(estimator=dc_tree,\n",
    "                    param_grid=params,\n",
    "                    cv=10,\n",
    "                    n_jobs=1)\n",
    "start = time() \n",
    "grid.fit(X_train_pca, y_train_pca)\n",
    "end = time() \n",
    "print(f'Train Time {end - start} s')\n",
    "\n",
    "start = time() \n",
    "grid_predictions = grid.predict(X_test_pca)\n",
    "end = time() \n",
    "print(f'Prediction Time {end - start} s')"
   ]
  },
  {
   "cell_type": "code",
   "execution_count": null,
   "metadata": {},
   "outputs": [
    {
     "name": "stdout",
     "output_type": "stream",
     "text": [
      "              precision    recall  f1-score   support\n",
      "\n",
      "           0       0.80      0.74      0.77      1706\n",
      "           1       0.82      0.87      0.84      4295\n",
      "           2       0.80      0.76      0.78      1839\n",
      "           3       0.00      0.00      0.00        37\n",
      "\n",
      "    accuracy                           0.81      7877\n",
      "   macro avg       0.60      0.59      0.60      7877\n",
      "weighted avg       0.81      0.81      0.81      7877\n",
      "\n",
      "Best CV params {'max_depth': 15, 'min_samples_leaf': 30}\n",
      "Train accuracy of best grid search hypers: 0.8490763664063988\n",
      "Test accuracy of best grid search hypers: 0.8034658788089445\n"
     ]
    },
    {
     "name": "stderr",
     "output_type": "stream",
     "text": [
      "/home/ahmed/anaconda3/lib/python3.9/site-packages/sklearn/metrics/_classification.py:1327: UndefinedMetricWarning: Precision and F-score are ill-defined and being set to 0.0 in labels with no predicted samples. Use `zero_division` parameter to control this behavior.\n",
      "  _warn_prf(average, modifier, msg_start, len(result))\n",
      "/home/ahmed/anaconda3/lib/python3.9/site-packages/sklearn/metrics/_classification.py:1327: UndefinedMetricWarning: Precision and F-score are ill-defined and being set to 0.0 in labels with no predicted samples. Use `zero_division` parameter to control this behavior.\n",
      "  _warn_prf(average, modifier, msg_start, len(result))\n",
      "/home/ahmed/anaconda3/lib/python3.9/site-packages/sklearn/metrics/_classification.py:1327: UndefinedMetricWarning: Precision and F-score are ill-defined and being set to 0.0 in labels with no predicted samples. Use `zero_division` parameter to control this behavior.\n",
      "  _warn_prf(average, modifier, msg_start, len(result))\n"
     ]
    }
   ],
   "source": [
    "print(classification_report(y_test_pca, grid_predictions))\n",
    "print(f'Best CV params {grid.best_params_}')\n",
    "print(\"Train accuracy of best grid search hypers:\", grid.score(X_train_pca, y_train_pca))\n",
    "print(\"Test accuracy of best grid search hypers:\", grid.best_score_)"
   ]
  },
  {
   "cell_type": "code",
   "execution_count": 35,
   "metadata": {},
   "outputs": [
    {
     "data": {
      "text/plain": [
       "Text(0.5, 1.0, 'DecisionTreeClassifier')"
      ]
     },
     "execution_count": 35,
     "metadata": {},
     "output_type": "execute_result"
    },
    {
     "data": {
      "image/png": "[encoded data removed]",
      "text/plain": [
       "<Figure size 640x480 with 1 Axes>"
      ]
     },
     "metadata": {},
     "output_type": "display_data"
    }
   ],
   "source": [
    "import matplotlib.pyplot as plt\n",
    "models = ['Testing Accuracy(%)', 'Training Runing Time(s)', 'Testing Runing Time (s)']\n",
    "accuracies_bar = [0.838, 2.03, 0.106]\n",
    "plt.bar(models, accuracies_bar)\n",
    "plt.title(\"DecisionTreeClassifier\")"
   ]
  },
  {
   "cell_type": "code",
   "execution_count": 34,
   "metadata": {},
   "outputs": [
    {
     "data": {
      "text/plain": [
       "Text(0.5, 1.0, 'SVM')"
      ]
     },
     "execution_count": 34,
     "metadata": {},
     "output_type": "execute_result"
    },
    {
     "data": {
      "image/png": "[encoded data removed]",
      "text/plain": [
       "<Figure size 640x480 with 1 Axes>"
      ]
     },
     "metadata": {},
     "output_type": "display_data"
    }
   ],
   "source": [
    "import matplotlib.pyplot as plt\n",
    "models = ['Testing Accuracy(%)', 'Training Runing Time(s)', 'Testing Runing Time (s)']\n",
    "accuracies_bar = [0.894*100, 173.4, 58.63]\n",
    "plt.bar(models, accuracies_bar)\n",
    "plt.title(\"SVM\")"
   ]
  },
  {
   "attachments": {},
   "cell_type": "markdown",
   "metadata": {},
   "source": [
    "# Model Testing Predictions and Kaggle Submission\n"
   ]
  },
  {
   "cell_type": "code",
   "execution_count": null,
   "metadata": {},
   "outputs": [],
   "source": []
  },
  {
   "cell_type": "code",
   "execution_count": null,
   "metadata": {},
   "outputs": [],
   "source": []
  },
  {
   "cell_type": "code",
   "execution_count": null,
   "metadata": {},
   "outputs": [],
   "source": []
  },
  {
   "cell_type": "code",
   "execution_count": null,
   "metadata": {},
   "outputs": [],
   "source": []
  }
 ],
 "metadata": {
  "kernelspec": {
   "display_name": "base",
   "language": "python",
   "name": "python3"
  },
  "language_info": {
   "codemirror_mode": {
    "name": "ipython",
    "version": 3
   },
   "file_extension": ".py",
   "mimetype": "text/x-python",
   "name": "python",
   "nbconvert_exporter": "python",
   "pygments_lexer": "ipython3",
   "version": "3.9.12"
  },
  "orig_nbformat": 4,
  "vscode": {
   "interpreter": {
    "hash": "b8d95c598a0d400b8ea806a5a4f4d66e0fe7e8ef9b8472e045a1b581be580002"
   }
  }
 },
 "nbformat": 4,
 "nbformat_minor": 2
}
